{
 "cells": [
  {
   "cell_type": "code",
   "execution_count": 9,
   "id": "a78a946e",
   "metadata": {},
   "outputs": [],
   "source": [
    "import pandas as pd\n",
    "import numpy as np\n",
    "from scipy import stats"
   ]
  },
  {
   "cell_type": "code",
   "execution_count": 10,
   "id": "485d524c",
   "metadata": {},
   "outputs": [
    {
     "name": "stdout",
     "output_type": "stream",
     "text": [
      "We will rename the columns to make them more descriptive and readable.\n"
     ]
    }
   ],
   "source": [
    "# Step 1: Replace Headers\n",
    "data = pd.read_csv('C:/Users/mattl/OneDrive/Documents/GitHub/DSC540/AQI and Lat Long of Countries.csv')\n",
    "data.columns = [\n",
    "    'Country', 'City', 'AQI_Value', 'AQI_Category', 'CO_AQI_Value', 'CO_AQI_Category',\n",
    "    'Ozone_AQI_Value', 'Ozone_AQI_Category', 'NO2_AQI_Value', 'NO2_AQI_Category',\n",
    "    'PM25_AQI_Value', 'PM25_AQI_Category', 'Latitude', 'Longitude'\n",
    "]\n",
    "print(\"We will rename the columns to make them more descriptive and readable.\")"
   ]
  },
  {
   "cell_type": "code",
   "execution_count": 16,
   "id": "bc65d813",
   "metadata": {},
   "outputs": [
    {
     "name": "stdout",
     "output_type": "stream",
     "text": [
      "We will format the 'lat' and 'lng' columns to have a consistent number of decimal places.\n"
     ]
    }
   ],
   "source": [
    "# Step 2: Format Data (assuming 'Latitude' and 'Longitude' need formatting)\n",
    "data['Latitude'] = data['Latitude'].round(6) \n",
    "data['Longitude'] = data['Longitude'].round(6)\n",
    "print(\"We will format the 'lat' and 'lng' columns to have a consistent number of decimal places.\")"
   ]
  },
  {
   "cell_type": "code",
   "execution_count": 12,
   "id": "5cc3a459",
   "metadata": {},
   "outputs": [],
   "source": [
    "#Step 3: Identify Outliers (assuming 'AQI Value' has outliers)\n",
    "z_scores = np.abs(stats.zscore(data['AQI_Value']))\n",
    "data = data[(z_scores < 3)] \n",
    "print(\"We will identify and handle outliers in the 'AQI Value' column.\")"
   ]
  },
  {
   "cell_type": "code",
   "execution_count": 17,
   "id": "24dce50b",
   "metadata": {},
   "outputs": [
    {
     "name": "stdout",
     "output_type": "stream",
     "text": [
      "We will identify and remove duplicate rows based on a subset of columns.\n"
     ]
    }
   ],
   "source": [
    "# Step #4: Find Duplicates (based on a subset of columns)\n",
    "data = data.drop_duplicates(subset=['Country', 'City', 'AQI_Value', 'AQI_Category'])\n",
    "print(\"We will identify and remove duplicate rows based on a subset of columns.\")"
   ]
  },
  {
   "cell_type": "code",
   "execution_count": 18,
   "id": "f073de8b",
   "metadata": {},
   "outputs": [
    {
     "name": "stdout",
     "output_type": "stream",
     "text": [
      "We will standardize the casing of the 'Country' and 'City' columns.\n"
     ]
    }
   ],
   "source": [
    "# Step #5: Fix Casing (assuming 'Country' and 'City' columns)\n",
    "data['Country'] = data['Country'].str.title()\n",
    "data['City'] = data['City'].str.title()\n",
    "print(\"We will standardize the casing of the 'Country' and 'City' columns.\")"
   ]
  },
  {
   "cell_type": "code",
   "execution_count": 15,
   "id": "8abff6b9",
   "metadata": {},
   "outputs": [],
   "source": [
    "# Save the cleaned data to a new CSV file\n",
    "data.to_csv('cleaned_AQI and Lat Long of Countries.csv', index=False)"
   ]
  },
  {
   "cell_type": "code",
   "execution_count": null,
   "id": "5665d1c2",
   "metadata": {},
   "outputs": [],
   "source": []
  }
 ],
 "metadata": {
  "kernelspec": {
   "display_name": "Python 3 (ipykernel)",
   "language": "python",
   "name": "python3"
  },
  "language_info": {
   "codemirror_mode": {
    "name": "ipython",
    "version": 3
   },
   "file_extension": ".py",
   "mimetype": "text/x-python",
   "name": "python",
   "nbconvert_exporter": "python",
   "pygments_lexer": "ipython3",
   "version": "3.10.9"
  }
 },
 "nbformat": 4,
 "nbformat_minor": 5
}
